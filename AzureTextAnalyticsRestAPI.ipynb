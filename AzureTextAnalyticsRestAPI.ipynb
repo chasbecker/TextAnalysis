{
  "cells": [
    {
      "metadata": {
        "trusted": true
      },
      "cell_type": "code",
      "source": "# see 'requirements.txt' for required modules\n\nimport requests\nfrom pprint import pprint\nimport os\nimport pandas as pd\nimport time\n\nfrom azure.ai.textanalytics import TextAnalyticsClient, TextAnalyticsApiKeyCredential",
      "execution_count": 8,
      "outputs": []
    },
    {
      "metadata": {
        "trusted": true
      },
      "cell_type": "code",
      "source": "key = \"f4a3533e6eb8431d9dca52beb055c8f5\"\nendpoint = \"https://sotu.cognitiveservices.azure.com/\"\n\ndef authenticate_client(k_tx, e_tx):\n    ta_credential = TextAnalyticsApiKeyCredential(k_tx)\n    text_analytics_client = TextAnalyticsClient(\n            endpoint=e_tx, credential=ta_credential)\n    return text_analytics_client\n\nclient = authenticate_client(key, endpoint)",
      "execution_count": 4,
      "outputs": []
    },
    {
      "metadata": {
        "trusted": true,
        "scrolled": false
      },
      "cell_type": "code",
      "source": "def sentiment_analysis_example(client, tf):\n\n    document = []\n    \n    with open(tf, 'r') as f:\n        for line in f:\n            line = line.strip()\n            line = line.replace(u'\\xa0', u' ')\n            document.append(line)\n    f.close()\n\n    response = client.analyze_sentiment(inputs=document)[0]\n    return((response.sentiment, response.sentiment_scores.positive, response.sentiment_scores.negative))",
      "execution_count": 5,
      "outputs": []
    },
    {
      "metadata": {
        "trusted": true
      },
      "cell_type": "code",
      "source": "# this program will expect the text files to be analyzed \n# to be located an a subdirectory named 'Text'\n\n\ntextdir = os.path.abspath(\"Text\")\n\nreturned_sentiment = []\n\nwith os.scandir(textdir) as entries:\n    for entry in entries:\n        if entry.is_file():\n            entry_str = str(entry)\n            trimmed_entry_str = entry_str[(entry_str.find(\"'\")+1):entry_str.rfind(\"'\")]\n            entry_name = trimmed_entry_str[0:trimmed_entry_str.find('.')]\n            entry_ext = trimmed_entry_str[trimmed_entry_str.find(\".\")+1:]\n            if entry_ext.isnumeric() and 2012 <= int(entry_ext) <=2100:   # if we last that long\n                aFile = textdir + \"/\" + entry_name + '.' + entry_ext\n                (sae_sentiment,sae_pos,sae_neg) = sentiment_analysis_example(client, aFile)\n                this_record = (entry_name + '.' + entry_ext, sae_sentiment, sae_pos, sae_neg)\n                #this_record = (entry_name + '.' + entry_ext, sentiment_analysis_example(client, aFile))\n                returned_sentiment.append(this_record)\n\nprint(returned_sentiment)",
      "execution_count": 23,
      "outputs": [
        {
          "output_type": "stream",
          "text": "[('trump.2020', 'neutral', 0.02, 0.02), ('obama.2015', 'neutral', 0.13, 0.02), ('obama.2012', 'positive', 1.0, 0.0), ('trump.2017', 'neutral', 0.02, 0.01), ('obama.2014', 'neutral', 0.13, 0.02), ('trump.2019', 'neutral', 0.02, 0.01), ('obama.2013', 'positive', 0.79, 0.04), ('trump.2018', 'neutral', 0.07, 0.02), ('obama.2016', 'neutral', 0.13, 0.02)]\n",
          "name": "stdout"
        }
      ]
    },
    {
      "metadata": {
        "trusted": true
      },
      "cell_type": "code",
      "source": "sae_df = pd.DataFrame(returned_sentiment, columns=['President.Year', 'Sentiment', 'Pos', 'Neg'])",
      "execution_count": 24,
      "outputs": []
    },
    {
      "metadata": {
        "trusted": true
      },
      "cell_type": "code",
      "source": "sae_df.head()",
      "execution_count": 25,
      "outputs": [
        {
          "output_type": "execute_result",
          "execution_count": 25,
          "data": {
            "text/html": "<div>\n<style scoped>\n    .dataframe tbody tr th:only-of-type {\n        vertical-align: middle;\n    }\n\n    .dataframe tbody tr th {\n        vertical-align: top;\n    }\n\n    .dataframe thead th {\n        text-align: right;\n    }\n</style>\n<table border=\"1\" class=\"dataframe\">\n  <thead>\n    <tr style=\"text-align: right;\">\n      <th></th>\n      <th>President.Year</th>\n      <th>Sentiment</th>\n      <th>Pos</th>\n      <th>Neg</th>\n    </tr>\n  </thead>\n  <tbody>\n    <tr>\n      <th>0</th>\n      <td>trump.2020</td>\n      <td>neutral</td>\n      <td>0.02</td>\n      <td>0.02</td>\n    </tr>\n    <tr>\n      <th>1</th>\n      <td>obama.2015</td>\n      <td>neutral</td>\n      <td>0.13</td>\n      <td>0.02</td>\n    </tr>\n    <tr>\n      <th>2</th>\n      <td>obama.2012</td>\n      <td>positive</td>\n      <td>1.00</td>\n      <td>0.00</td>\n    </tr>\n    <tr>\n      <th>3</th>\n      <td>trump.2017</td>\n      <td>neutral</td>\n      <td>0.02</td>\n      <td>0.01</td>\n    </tr>\n    <tr>\n      <th>4</th>\n      <td>obama.2014</td>\n      <td>neutral</td>\n      <td>0.13</td>\n      <td>0.02</td>\n    </tr>\n  </tbody>\n</table>\n</div>",
            "text/plain": "  President.Year Sentiment   Pos   Neg\n0     trump.2020   neutral  0.02  0.02\n1     obama.2015   neutral  0.13  0.02\n2     obama.2012  positive  1.00  0.00\n3     trump.2017   neutral  0.02  0.01\n4     obama.2014   neutral  0.13  0.02"
          },
          "metadata": {}
        }
      ]
    },
    {
      "metadata": {
        "trusted": true
      },
      "cell_type": "code",
      "source": "",
      "execution_count": null,
      "outputs": []
    }
  ],
  "metadata": {
    "kernelspec": {
      "name": "python36",
      "display_name": "Python 3.6",
      "language": "python"
    },
    "language_info": {
      "mimetype": "text/x-python",
      "nbconvert_exporter": "python",
      "name": "python",
      "pygments_lexer": "ipython3",
      "version": "3.6.6",
      "file_extension": ".py",
      "codemirror_mode": {
        "version": 3,
        "name": "ipython"
      }
    }
  },
  "nbformat": 4,
  "nbformat_minor": 2
}