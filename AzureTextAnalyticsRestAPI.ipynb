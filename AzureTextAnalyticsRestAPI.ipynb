{
  "cells": [
    {
      "metadata": {
        "trusted": true
      },
      "cell_type": "code",
      "source": "# see 'requirements.txt' for required modules\n\nimport requests\nfrom pprint import pprint\nimport os\n\nfrom azure.ai.textanalytics import TextAnalyticsClient, TextAnalyticsApiKeyCredential",
      "execution_count": 15,
      "outputs": []
    },
    {
      "metadata": {
        "trusted": true
      },
      "cell_type": "code",
      "source": "key = \"f4a3533e6eb8431d9dca52beb055c8f5\"\nendpoint = \"https://sotu.cognitiveservices.azure.com/\"\n\ndef authenticate_client(k_tx, e_tx):\n    ta_credential = TextAnalyticsApiKeyCredential(k_tx)\n    text_analytics_client = TextAnalyticsClient(\n            endpoint=e_tx, credential=ta_credential)\n    return text_analytics_client\n\nclient = authenticate_client(key, endpoint)",
      "execution_count": 16,
      "outputs": []
    },
    {
      "metadata": {
        "trusted": true,
        "scrolled": false
      },
      "cell_type": "code",
      "source": "def sentiment_analysis_example(client, tf):\n\n    document = []\n    \n    with open(tf, 'r') as f:\n        for line in f:\n            line = line.strip()\n            line = line.replace(u'\\xa0', u' ')\n            document.append(line)\n    f.close()\n\n    response = client.analyze_sentiment(inputs=document)[0]\n    return((response.sentiment, response.sentiment_scores.positive, response.sentiment_scores.negative))",
      "execution_count": 17,
      "outputs": []
    },
    {
      "metadata": {
        "trusted": true
      },
      "cell_type": "code",
      "source": "# this program will expect the text files to be analyzed \n# to be located an a subdirectory named 'Text'\n\ntextdir = os.getcwd()                                  # temproarily disabled for testing -> os.path.abspath(\"Text\")\n\nreturned_sentiment = []\nreturned_sentiment_headers = (\"President.Year\", \"Sentiment\", \"Pos\", \"Neg\")\nreturned_sentiment.append(returned_sentiment_headers)\n\nwith os.scandir(textdir) as entries:\n    for entry in entries:\n        if entry.is_file():\n            entry_str = str(entry)\n            # parse the returned scandir entry\n            trimmed_entry_str = entry_str[(entry_str.find(\"'\")+1):entry_str.rfind(\"'\")]\n            entry_name = trimmed_entry_str[0:trimmed_entry_str.find('.')]\n            entry_ext = trimmed_entry_str[trimmed_entry_str.find(\".\")+1:]\n            # half a$$ed attempt to only read 'president.1234' files\n            if entry_ext.isnumeric() and 1789 <= int(entry_ext) <=2100:     # if we last that long\n                aFile = textdir + \"/\" + entry_name + '.' + entry_ext\n                this_record = (entry_name + '.' + entry_ext, sentiment_analysis_example(client, aFile))\n                returned_sentiment.append(this_record)\n\nprint(returned_sentiment)",
      "execution_count": 18,
      "outputs": [
        {
          "output_type": "stream",
          "text": "[('President.Year', 'Sentiment', 'Pos', 'Neg'), ('obama.2016', ('neutral', 0.13, 0.02)), ('trump.2020', ('neutral', 0.23, 0.06))]\n",
          "name": "stdout"
        }
      ]
    },
    {
      "metadata": {
        "trusted": true
      },
      "cell_type": "code",
      "source": "",
      "execution_count": null,
      "outputs": []
    }
  ],
  "metadata": {
    "kernelspec": {
      "name": "python36",
      "display_name": "Python 3.6",
      "language": "python"
    },
    "language_info": {
      "mimetype": "text/x-python",
      "nbconvert_exporter": "python",
      "name": "python",
      "pygments_lexer": "ipython3",
      "version": "3.6.6",
      "file_extension": ".py",
      "codemirror_mode": {
        "version": 3,
        "name": "ipython"
      }
    }
  },
  "nbformat": 4,
  "nbformat_minor": 2
}