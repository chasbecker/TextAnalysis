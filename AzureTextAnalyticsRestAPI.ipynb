{
 "cells": [
  {
   "cell_type": "code",
   "execution_count": 8,
   "metadata": {},
   "outputs": [],
   "source": [
    "# see 'requirements.txt' for required modules\n",
    "\n",
    "import requests\n",
    "from pprint import pprint\n",
    "import os\n",
    "import pandas as pd\n",
    "import time\n",
    "\n",
    "from azure.ai.textanalytics import TextAnalyticsClient, TextAnalyticsApiKeyCredential"
   ]
  },
  {
   "cell_type": "code",
   "execution_count": null,
   "metadata": {},
   "outputs": [],
   "source": [
    "import numpy as np\n",
    "np.__version__"
   ]
  },
  {
   "cell_type": "code",
   "execution_count": 4,
   "metadata": {},
   "outputs": [],
   "source": [
    "key = \"f4a3533e6eb8431d9dca52beb055c8f5\"\n",
    "endpoint = \"https://sotu.cognitiveservices.azure.com/\"\n",
    "new_variable = \"test\"\n",
    "def authenticate_client(k_tx, e_tx):\n",
    "    ta_credential = TextAnalyticsApiKeyCredential(k_tx)\n",
    "    text_analytics_client = TextAnalyticsClient(\n",
    "            endpoint=e_tx, credential=ta_credential)\n",
    "    return text_analytics_client\n",
    "\n",
    "client = authenticate_client(key, endpoint)"
   ]
  },
  {
   "cell_type": "code",
   "execution_count": 5,
   "metadata": {},
   "outputs": [],
   "source": [
    "def sentiment_analysis_example(client, tf):\n",
    "\n",
    "    document = []\n",
    "    \n",
    "    with open(tf, 'r') as f:\n",
    "        for line in f:\n",
    "            line = line.strip()\n",
    "            line = line.replace(u'\\xa0', u' ')\n",
    "            document.append(line)\n",
    "    f.close()\n",
    "\n",
    "    response = client.analyze_sentiment(inputs=document)[0]\n",
    "    return((response.sentiment, response.sentiment_scores.positive, response.sentiment_scores.negative))"
   ]
  },
  {
   "cell_type": "code",
   "execution_count": 23,
   "metadata": {},
   "outputs": [
    {
     "name": "stdout",
     "output_type": "stream",
     "text": [
      "[('trump.2020', 'neutral', 0.02, 0.02), ('obama.2015', 'neutral', 0.13, 0.02), ('obama.2012', 'positive', 1.0, 0.0), ('trump.2017', 'neutral', 0.02, 0.01), ('obama.2014', 'neutral', 0.13, 0.02), ('trump.2019', 'neutral', 0.02, 0.01), ('obama.2013', 'positive', 0.79, 0.04), ('trump.2018', 'neutral', 0.07, 0.02), ('obama.2016', 'neutral', 0.13, 0.02)]\n"
     ]
    }
   ],
   "source": [
    "# this program will expect the text files to be analyzed \n",
    "# to be located an a subdirectory named 'Text'\n",
    "\n",
    "\n",
    "textdir = os.path.abspath(\"Bild\") # os.path.abspath(\"Text\")\n",
    "\n",
    "returned_sentiment = []\n",
    "\n",
    "with os.scandir(textdir) as entries:\n",
    "    for entry in entries:\n",
    "        if entry.is_file():\n",
    "            entry_str = str(entry)\n",
    "            trimmed_entry_str = entry_str[(entry_str.find(\"'\")+1):entry_str.rfind(\"'\")]\n",
    "            entry_name = trimmed_entry_str[0:trimmed_entry_str.find('.')]\n",
    "            entry_ext = trimmed_entry_str[trimmed_entry_str.find(\".\")+1:]\n",
    "            if entry_ext.isnumeric() and 2012 <= int(entry_ext) <=2100:   # if we last that long\n",
    "                aFile = textdir + \"/\" + entry_name + '.' + entry_ext\n",
    "                (sae_sentiment,sae_pos,sae_neg) = sentiment_analysis_example(client, aFile)\n",
    "                this_record = (entry_name + '.' + entry_ext, sae_sentiment, sae_pos, sae_neg)\n",
    "                #this_record = (entry_name + '.' + entry_ext, sentiment_analysis_example(client, aFile))\n",
    "                returned_sentiment.append(this_record)\n",
    "\n",
    "print(returned_sentiment)"
   ]
  },
  {
   "cell_type": "code",
   "execution_count": 24,
   "metadata": {},
   "outputs": [],
   "source": [
    "sae_df = pd.DataFrame(returned_sentiment, columns=['President.Year', 'Sentiment', 'Pos', 'Neg'])"
   ]
  },
  {
   "cell_type": "code",
   "execution_count": 25,
   "metadata": {},
   "outputs": [
    {
     "data": {
      "text/html": [
       "<div>\n",
       "<style scoped>\n",
       "    .dataframe tbody tr th:only-of-type {\n",
       "        vertical-align: middle;\n",
       "    }\n",
       "\n",
       "    .dataframe tbody tr th {\n",
       "        vertical-align: top;\n",
       "    }\n",
       "\n",
       "    .dataframe thead th {\n",
       "        text-align: right;\n",
       "    }\n",
       "</style>\n",
       "<table border=\"1\" class=\"dataframe\">\n",
       "  <thead>\n",
       "    <tr style=\"text-align: right;\">\n",
       "      <th></th>\n",
       "      <th>President.Year</th>\n",
       "      <th>Sentiment</th>\n",
       "      <th>Pos</th>\n",
       "      <th>Neg</th>\n",
       "    </tr>\n",
       "  </thead>\n",
       "  <tbody>\n",
       "    <tr>\n",
       "      <th>0</th>\n",
       "      <td>trump.2020</td>\n",
       "      <td>neutral</td>\n",
       "      <td>0.02</td>\n",
       "      <td>0.02</td>\n",
       "    </tr>\n",
       "    <tr>\n",
       "      <th>1</th>\n",
       "      <td>obama.2015</td>\n",
       "      <td>neutral</td>\n",
       "      <td>0.13</td>\n",
       "      <td>0.02</td>\n",
       "    </tr>\n",
       "    <tr>\n",
       "      <th>2</th>\n",
       "      <td>obama.2012</td>\n",
       "      <td>positive</td>\n",
       "      <td>1.00</td>\n",
       "      <td>0.00</td>\n",
       "    </tr>\n",
       "    <tr>\n",
       "      <th>3</th>\n",
       "      <td>trump.2017</td>\n",
       "      <td>neutral</td>\n",
       "      <td>0.02</td>\n",
       "      <td>0.01</td>\n",
       "    </tr>\n",
       "    <tr>\n",
       "      <th>4</th>\n",
       "      <td>obama.2014</td>\n",
       "      <td>neutral</td>\n",
       "      <td>0.13</td>\n",
       "      <td>0.02</td>\n",
       "    </tr>\n",
       "  </tbody>\n",
       "</table>\n",
       "</div>"
      ],
      "text/plain": [
       "  President.Year Sentiment   Pos   Neg\n",
       "0     trump.2020   neutral  0.02  0.02\n",
       "1     obama.2015   neutral  0.13  0.02\n",
       "2     obama.2012  positive  1.00  0.00\n",
       "3     trump.2017   neutral  0.02  0.01\n",
       "4     obama.2014   neutral  0.13  0.02"
      ]
     },
     "execution_count": 25,
     "metadata": {},
     "output_type": "execute_result"
    }
   ],
   "source": [
    "sae_df.head()"
   ]
  },
  {
   "cell_type": "code",
   "execution_count": null,
   "metadata": {},
   "outputs": [],
   "source": []
  }
 ],
 "metadata": {
  "kernelspec": {
   "display_name": "Python 3",
   "language": "python",
   "name": "python3"
  },
  "language_info": {
   "codemirror_mode": {
    "name": "ipython",
    "version": 3
   },
   "file_extension": ".py",
   "mimetype": "text/x-python",
   "name": "python",
   "nbconvert_exporter": "python",
   "pygments_lexer": "ipython3",
   "version": "3.6.8"
  }
 },
 "nbformat": 4,
 "nbformat_minor": 4
}
